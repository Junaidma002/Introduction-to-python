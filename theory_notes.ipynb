{
  "nbformat": 4,
  "nbformat_minor": 0,
  "metadata": {
    "colab": {
      "provenance": [],
      "authorship_tag": "ABX9TyNCbWyh5ys2JbIn8YoRsI7w",
      "include_colab_link": true
    },
    "kernelspec": {
      "name": "python3",
      "display_name": "Python 3"
    },
    "language_info": {
      "name": "python"
    }
  },
  "cells": [
    {
      "cell_type": "markdown",
      "metadata": {
        "id": "view-in-github",
        "colab_type": "text"
      },
      "source": [
        "<a href=\"https://colab.research.google.com/github/Junaidma002/Introduction-to-python/blob/main/theory_notes.ipynb\" target=\"_parent\"><img src=\"https://colab.research.google.com/assets/colab-badge.svg\" alt=\"Open In Colab\"/></a>"
      ]
    },
    {
      "cell_type": "code",
      "execution_count": null,
      "metadata": {
        "id": "0yGGRUdJ2Nla"
      },
      "outputs": [],
      "source": [
        "#data types\n",
        "#int\n",
        "#float\n",
        "#complex\n",
        "#str\n",
        "#list\n",
        "#tuple\n",
        "#set\n",
        "#dictionary\n"
      ]
    },
    {
      "cell_type": "code",
      "source": [
        "num=10\n",
        "num1=4.5"
      ],
      "metadata": {
        "id": "GY0hsZol2-SX"
      },
      "execution_count": 8,
      "outputs": []
    },
    {
      "cell_type": "code",
      "source": [
        "type(num+num1)"
      ],
      "metadata": {
        "colab": {
          "base_uri": "https://localhost:8080/"
        },
        "id": "It9W7fC-3EOs",
        "outputId": "c7f5d735-0841-46fc-9871-c9d7fa2fa041"
      },
      "execution_count": 9,
      "outputs": [
        {
          "output_type": "execute_result",
          "data": {
            "text/plain": [
              "float"
            ]
          },
          "metadata": {},
          "execution_count": 9
        }
      ]
    },
    {
      "cell_type": "code",
      "source": [
        "c=10+5j\n"
      ],
      "metadata": {
        "id": "_PjmAqYN3J2p"
      },
      "execution_count": 13,
      "outputs": []
    },
    {
      "cell_type": "code",
      "source": [
        "type(c)"
      ],
      "metadata": {
        "colab": {
          "base_uri": "https://localhost:8080/"
        },
        "id": "gavXvqAg4CzU",
        "outputId": "703a7c92-addb-4bd8-aa06-e01199f4f7ee"
      },
      "execution_count": 14,
      "outputs": [
        {
          "output_type": "execute_result",
          "data": {
            "text/plain": [
              "complex"
            ]
          },
          "metadata": {},
          "execution_count": 14
        }
      ]
    },
    {
      "cell_type": "code",
      "source": [
        "a=\"Junaid\""
      ],
      "metadata": {
        "id": "OamAUCos4LJE"
      },
      "execution_count": 17,
      "outputs": []
    },
    {
      "cell_type": "code",
      "source": [
        "type(a)"
      ],
      "metadata": {
        "colab": {
          "base_uri": "https://localhost:8080/"
        },
        "id": "Vyo3bt_q4SDM",
        "outputId": "f29a5fc3-2221-4a43-df76-d4a052aad939"
      },
      "execution_count": 18,
      "outputs": [
        {
          "output_type": "execute_result",
          "data": {
            "text/plain": [
              "str"
            ]
          },
          "metadata": {},
          "execution_count": 18
        }
      ]
    },
    {
      "cell_type": "code",
      "source": [
        "msg=\"I am a student of rajagiri\"\n"
      ],
      "metadata": {
        "id": "e7eRtVyx4TwU"
      },
      "execution_count": 19,
      "outputs": []
    },
    {
      "cell_type": "code",
      "source": [
        "type(msg)"
      ],
      "metadata": {
        "colab": {
          "base_uri": "https://localhost:8080/"
        },
        "id": "DnOHwc4E4jGc",
        "outputId": "19d4a891-0e89-4feb-be74-3e74f21ab273"
      },
      "execution_count": 20,
      "outputs": [
        {
          "output_type": "execute_result",
          "data": {
            "text/plain": [
              "str"
            ]
          },
          "metadata": {},
          "execution_count": 20
        }
      ]
    },
    {
      "cell_type": "code",
      "source": [
        "friends=[\"Jidhu\",\"fahad\",\"cyriac\",\"alex\",\"irene\"]\n",
        "\n"
      ],
      "metadata": {
        "id": "oF0gqVGx4lmc"
      },
      "execution_count": 31,
      "outputs": []
    },
    {
      "cell_type": "code",
      "source": [
        "type(friends)"
      ],
      "metadata": {
        "colab": {
          "base_uri": "https://localhost:8080/"
        },
        "id": "BamCg4Mq5kZY",
        "outputId": "865a6434-d519-4e46-d780-878f6b472b44"
      },
      "execution_count": 32,
      "outputs": [
        {
          "output_type": "execute_result",
          "data": {
            "text/plain": [
              "list"
            ]
          },
          "metadata": {},
          "execution_count": 32
        }
      ]
    },
    {
      "cell_type": "code",
      "source": [
        "cars=[\"honda\",\"benz\",\"toyota\",\"audi\",\"mini cooper\"]"
      ],
      "metadata": {
        "id": "eKF4ohao5tVX"
      },
      "execution_count": 28,
      "outputs": []
    },
    {
      "cell_type": "code",
      "source": [
        "print(cars[1])"
      ],
      "metadata": {
        "colab": {
          "base_uri": "https://localhost:8080/"
        },
        "id": "vhd2Fzex6NDB",
        "outputId": "18b7755b-4231-4e93-bc1b-1a2d2dc2644e"
      },
      "execution_count": 29,
      "outputs": [
        {
          "output_type": "stream",
          "name": "stdout",
          "text": [
            "benz\n"
          ]
        }
      ]
    },
    {
      "cell_type": "code",
      "source": [
        "print(cars[-1])"
      ],
      "metadata": {
        "colab": {
          "base_uri": "https://localhost:8080/"
        },
        "id": "WiVYI2uj6Ql5",
        "outputId": "ac60ab78-5d3e-4890-a5ee-16724e293043"
      },
      "execution_count": 33,
      "outputs": [
        {
          "output_type": "stream",
          "name": "stdout",
          "text": [
            "mini cooper\n"
          ]
        }
      ]
    },
    {
      "cell_type": "code",
      "source": [
        "cars=[\"honda\",\"benz\",\"toyota\",\"audi\",\"mini cooper\"]\n",
        "cars.pop(1)\n",
        "print(cars)"
      ],
      "metadata": {
        "colab": {
          "base_uri": "https://localhost:8080/"
        },
        "id": "txezRCJ565Rh",
        "outputId": "f1673e2a-493a-4417-c918-cff316ec90b1"
      },
      "execution_count": 37,
      "outputs": [
        {
          "output_type": "stream",
          "name": "stdout",
          "text": [
            "['honda', 'toyota', 'audi', 'mini cooper']\n"
          ]
        }
      ]
    },
    {
      "cell_type": "code",
      "source": [],
      "metadata": {
        "id": "fRbeJwO4DISg"
      },
      "execution_count": null,
      "outputs": []
    },
    {
      "cell_type": "code",
      "source": [],
      "metadata": {
        "id": "a08EnVmWDI0e"
      },
      "execution_count": null,
      "outputs": []
    },
    {
      "cell_type": "code",
      "source": [
        "friends=[\"chris\",\"justin\",\"ryan\",\"ravi\",\"ram\"]"
      ],
      "metadata": {
        "id": "_nMlhMKJ71yE"
      },
      "execution_count": 60,
      "outputs": []
    },
    {
      "cell_type": "code",
      "source": [
        "friends.append(\"robert\")\n"
      ],
      "metadata": {
        "id": "9QCO0cJE9vqc"
      },
      "execution_count": 61,
      "outputs": []
    },
    {
      "cell_type": "code",
      "source": [
        "print(friends)"
      ],
      "metadata": {
        "colab": {
          "base_uri": "https://localhost:8080/"
        },
        "id": "llm9ryO3-Nwy",
        "outputId": "0d97a52b-fcde-4566-e381-73e94f4a9e4c"
      },
      "execution_count": 62,
      "outputs": [
        {
          "output_type": "stream",
          "name": "stdout",
          "text": [
            "['chris', 'justin', 'ryan', 'ravi', 'ram', 'robert']\n"
          ]
        }
      ]
    },
    {
      "cell_type": "code",
      "source": [
        "cars=[\"honda\",\"benz\",\"toyota\",\"audi\",\"mini cooper\"]"
      ],
      "metadata": {
        "id": "3SmFPOXA-sK4"
      },
      "execution_count": 73,
      "outputs": []
    },
    {
      "cell_type": "code",
      "source": [
        "cars[2]=\"suzuki\"\n",
        "print(cars)"
      ],
      "metadata": {
        "colab": {
          "base_uri": "https://localhost:8080/"
        },
        "id": "edd6kYX4_ZCk",
        "outputId": "60ca2f16-b5f1-4d81-c911-8f1335bf7a4e"
      },
      "execution_count": 75,
      "outputs": [
        {
          "output_type": "stream",
          "name": "stdout",
          "text": [
            "['honda', 'benz', 'suzuki', 'audi', 'mini cooper']\n"
          ]
        }
      ]
    },
    {
      "cell_type": "code",
      "source": [
        "friends=[\"chris\",\"justin\",\"ryan\",\"ravi\",\"ram\"]\n",
        "friends.sort()\n",
        "print(friends)"
      ],
      "metadata": {
        "colab": {
          "base_uri": "https://localhost:8080/"
        },
        "id": "rRmPXcbf_h85",
        "outputId": "b4ce1a41-c59a-4fc0-921c-9eb9ba5646ab"
      },
      "execution_count": 82,
      "outputs": [
        {
          "output_type": "stream",
          "name": "stdout",
          "text": [
            "['chris', 'justin', 'ram', 'ravi', 'ryan']\n"
          ]
        }
      ]
    },
    {
      "cell_type": "code",
      "source": [
        "tuple_items=(10,50,66,25,80,40,25,70)\n",
        "type(tuple_items)"
      ],
      "metadata": {
        "colab": {
          "base_uri": "https://localhost:8080/"
        },
        "id": "Xua5o_11DJ6H",
        "outputId": "564241d1-145b-4b7e-8a0c-c3f165edd30d"
      },
      "execution_count": 81,
      "outputs": [
        {
          "output_type": "execute_result",
          "data": {
            "text/plain": [
              "tuple"
            ]
          },
          "metadata": {},
          "execution_count": 81
        }
      ]
    },
    {
      "cell_type": "code",
      "source": [
        "tuple_items=(10,50,66,25,80,40,25,70)\n",
        "tuple_items.sort()"
      ],
      "metadata": {
        "colab": {
          "base_uri": "https://localhost:8080/",
          "height": 183
        },
        "id": "ScSc2vB6Djwc",
        "outputId": "fed7d508-a5d2-486d-ace6-df0874a73a45"
      },
      "execution_count": 78,
      "outputs": [
        {
          "output_type": "error",
          "ename": "AttributeError",
          "evalue": "ignored",
          "traceback": [
            "\u001b[0;31m---------------------------------------------------------------------------\u001b[0m",
            "\u001b[0;31mAttributeError\u001b[0m                            Traceback (most recent call last)",
            "\u001b[0;32m<ipython-input-78-738fd9a3c635>\u001b[0m in \u001b[0;36m<module>\u001b[0;34m\u001b[0m\n\u001b[1;32m      1\u001b[0m \u001b[0mtuple_items\u001b[0m\u001b[0;34m=\u001b[0m\u001b[0;34m(\u001b[0m\u001b[0;36m10\u001b[0m\u001b[0;34m,\u001b[0m\u001b[0;36m50\u001b[0m\u001b[0;34m,\u001b[0m\u001b[0;36m66\u001b[0m\u001b[0;34m,\u001b[0m\u001b[0;36m25\u001b[0m\u001b[0;34m,\u001b[0m\u001b[0;36m80\u001b[0m\u001b[0;34m,\u001b[0m\u001b[0;36m40\u001b[0m\u001b[0;34m,\u001b[0m\u001b[0;36m25\u001b[0m\u001b[0;34m,\u001b[0m\u001b[0;36m70\u001b[0m\u001b[0;34m)\u001b[0m\u001b[0;34m\u001b[0m\u001b[0;34m\u001b[0m\u001b[0m\n\u001b[0;32m----> 2\u001b[0;31m \u001b[0mtuple_items\u001b[0m\u001b[0;34m.\u001b[0m\u001b[0msort\u001b[0m\u001b[0;34m(\u001b[0m\u001b[0;34m)\u001b[0m\u001b[0;34m\u001b[0m\u001b[0;34m\u001b[0m\u001b[0m\n\u001b[0m",
            "\u001b[0;31mAttributeError\u001b[0m: 'tuple' object has no attribute 'sort'"
          ]
        }
      ]
    },
    {
      "cell_type": "code",
      "source": [
        "#set\n",
        "marks=[10,20,20,30,40]\n",
        "set1=set(marks)\n",
        "print(set1)\n"
      ],
      "metadata": {
        "colab": {
          "base_uri": "https://localhost:8080/"
        },
        "id": "Vic74TlNELEt",
        "outputId": "83ccee46-5efb-466c-d650-2704bda0b84a"
      },
      "execution_count": 84,
      "outputs": [
        {
          "output_type": "stream",
          "name": "stdout",
          "text": [
            "{40, 10, 20, 30}\n"
          ]
        }
      ]
    },
    {
      "cell_type": "code",
      "source": [
        "#dictonary\n",
        "dict={\"name\":\"alex\",\"favourite color\":\"red\",\"place\":\"kollam\"}\n",
        "dict.items()\n",
        "dict.keys()\n",
        "dict.values()\n",
        "\n",
        "\n"
      ],
      "metadata": {
        "colab": {
          "base_uri": "https://localhost:8080/"
        },
        "id": "m8pIntlzGZc6",
        "outputId": "8c18a563-ecb0-471e-b4e9-fac10625660d"
      },
      "execution_count": 102,
      "outputs": [
        {
          "output_type": "execute_result",
          "data": {
            "text/plain": [
              "dict_values(['alex', 'red', 'kollam'])"
            ]
          },
          "metadata": {},
          "execution_count": 102
        }
      ]
    },
    {
      "cell_type": "code",
      "source": [
        "#replace\n",
        "dict={\"name\":\"alex\",\"favourite color\":\"red\",\"place\":\"kollam\"}\n",
        "dict[\"name\"]=\"mary\"\n",
        "print(dict)\n"
      ],
      "metadata": {
        "colab": {
          "base_uri": "https://localhost:8080/"
        },
        "id": "lmKiZjAFI4FX",
        "outputId": "197adbb3-7007-4aa6-ca53-627b3b902bad"
      },
      "execution_count": 104,
      "outputs": [
        {
          "output_type": "stream",
          "name": "stdout",
          "text": [
            "{'name': 'mary', 'favourite color': 'red', 'place': 'kollam'}\n"
          ]
        }
      ]
    },
    {
      "cell_type": "code",
      "source": [
        "#insert\n",
        "dict={\"name\":\"alex\",\"favourite color\":\"red\",\"place\":\"kollam\"}\n",
        "dict[\"dob\"]=\"january\"\n",
        "print(dict)"
      ],
      "metadata": {
        "colab": {
          "base_uri": "https://localhost:8080/"
        },
        "id": "g6OACuuYJWvD",
        "outputId": "2a13e784-40d5-48c3-d5b0-b7e65cb197fe"
      },
      "execution_count": 105,
      "outputs": [
        {
          "output_type": "stream",
          "name": "stdout",
          "text": [
            "{'name': 'alex', 'favourite color': 'red', 'place': 'kollam', 'dob': 'january'}\n"
          ]
        }
      ]
    },
    {
      "cell_type": "code",
      "source": [
        "#def function\n",
        "def add(x,y):\n",
        "  return(x+y)\n",
        "add(2,3)  "
      ],
      "metadata": {
        "colab": {
          "base_uri": "https://localhost:8080/"
        },
        "id": "pTWzs8GMKny1",
        "outputId": "f44af458-4d64-49db-dc35-7d32a26167f6"
      },
      "execution_count": 111,
      "outputs": [
        {
          "output_type": "execute_result",
          "data": {
            "text/plain": [
              "5"
            ]
          },
          "metadata": {},
          "execution_count": 111
        }
      ]
    },
    {
      "cell_type": "code",
      "source": [],
      "metadata": {
        "id": "V90cPSz-Lqis"
      },
      "execution_count": null,
      "outputs": []
    }
  ]
}