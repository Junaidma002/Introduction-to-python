{
  "nbformat": 4,
  "nbformat_minor": 0,
  "metadata": {
    "colab": {
      "provenance": [],
      "collapsed_sections": [],
      "authorship_tag": "ABX9TyPk3uPgIvSlqte71SBAtqnE",
      "include_colab_link": true
    },
    "kernelspec": {
      "name": "python3",
      "display_name": "Python 3"
    },
    "language_info": {
      "name": "python"
    }
  },
  "cells": [
    {
      "cell_type": "markdown",
      "metadata": {
        "id": "view-in-github",
        "colab_type": "text"
      },
      "source": [
        "<a href=\"https://colab.research.google.com/github/Junaidma002/Introduction-to-python/blob/main/Basics_to_python_2.ipynb\" target=\"_parent\"><img src=\"https://colab.research.google.com/assets/colab-badge.svg\" alt=\"Open In Colab\"/></a>"
      ]
    },
    {
      "cell_type": "code",
      "source": [
        "mark=int(input())\n",
        "if mark >50 :\n",
        "  print(\"You are passed\")\n",
        "if mark <50 :\n",
        "  print(\"You are failed\")"
      ],
      "metadata": {
        "colab": {
          "base_uri": "https://localhost:8080/"
        },
        "id": "Xvn7lpNUiIfv",
        "outputId": "bb1382d7-3f77-4b73-dae2-1b03af09e761"
      },
      "execution_count": 1,
      "outputs": [
        {
          "output_type": "stream",
          "name": "stdout",
          "text": [
            "55\n",
            "You are passed\n"
          ]
        }
      ]
    },
    {
      "cell_type": "code",
      "source": [
        "mark=int(input())"
      ],
      "metadata": {
        "colab": {
          "base_uri": "https://localhost:8080/"
        },
        "id": "JK-q2tlVijGq",
        "outputId": "68a81b98-75a6-439c-e9ee-e3ab2922ed48"
      },
      "execution_count": 2,
      "outputs": [
        {
          "name": "stdout",
          "output_type": "stream",
          "text": [
            "50\n"
          ]
        }
      ]
    },
    {
      "cell_type": "code",
      "source": [
        "if mark==50 :\n",
        "  print(\"Just passed\")"
      ],
      "metadata": {
        "colab": {
          "base_uri": "https://localhost:8080/"
        },
        "id": "Ib5A8MiqjKvg",
        "outputId": "a0b6c645-34b5-4722-f8f6-018cc2d0bd53"
      },
      "execution_count": 3,
      "outputs": [
        {
          "output_type": "stream",
          "name": "stdout",
          "text": [
            "Just passed\n"
          ]
        }
      ]
    },
    {
      "cell_type": "code",
      "source": [
        "salary=int(input())\n",
        "if salary>=250000 :\n",
        "  print(\"salary taxable\")\n",
        "if salary <250000 :\n",
        "  print(\"salary not taxable\")\n",
        "\n",
        "\n"
      ],
      "metadata": {
        "colab": {
          "base_uri": "https://localhost:8080/"
        },
        "id": "Hhu10YFvkwIS",
        "outputId": "2ff9d310-befd-402a-d7c1-064c7d68457c"
      },
      "execution_count": 4,
      "outputs": [
        {
          "output_type": "stream",
          "name": "stdout",
          "text": [
            "200000\n",
            "salary not taxable\n"
          ]
        }
      ]
    },
    {
      "cell_type": "code",
      "source": [
        "salary=int(input())\n",
        "if salary>=250000 :\n",
        "  print(\"salary taxable\")\n",
        "  print(salary*10/100)\n",
        "if salary <250000 :\n",
        "  print(\"salary not taxable\")\n",
        "  "
      ],
      "metadata": {
        "colab": {
          "base_uri": "https://localhost:8080/"
        },
        "id": "mdeQ44e8mUdA",
        "outputId": "c22a2c46-0d3f-42dc-fc5a-00812f61c055"
      },
      "execution_count": 5,
      "outputs": [
        {
          "output_type": "stream",
          "name": "stdout",
          "text": [
            "300000\n",
            "salary taxable\n",
            "30000.0\n"
          ]
        }
      ]
    },
    {
      "cell_type": "code",
      "source": [
        "salary=int(input())\n",
        "if salary>=250000 :\n",
        "  print(\"salary taxable\")\n",
        "  print((salary-250000)*10/100)"
      ],
      "metadata": {
        "colab": {
          "base_uri": "https://localhost:8080/"
        },
        "id": "iUGFfh1bn_PS",
        "outputId": "7363a066-e72e-425b-c307-2fef393ae02a"
      },
      "execution_count": 6,
      "outputs": [
        {
          "output_type": "stream",
          "name": "stdout",
          "text": [
            "300000\n",
            "salary taxable\n",
            "5000.0\n"
          ]
        }
      ]
    },
    {
      "cell_type": "code",
      "source": [
        "salary=int(input())\n",
        "if 0< salary<=250000 :\n",
        "  print(\"salary not taxable\") \n",
        "if 250000< salary<=500000 :\n",
        "  print(\"salary taxable\")\n",
        "  print(salary*10/100)\n",
        "if salary >500000 :\n",
        "  print(\"salary taxable\") \n",
        "  print(salary*20/100)\n"
      ],
      "metadata": {
        "colab": {
          "base_uri": "https://localhost:8080/"
        },
        "id": "W2XgSxNsqB0p",
        "outputId": "31ac4451-6f6c-4168-e311-92c946b9d4ad"
      },
      "execution_count": 7,
      "outputs": [
        {
          "output_type": "stream",
          "name": "stdout",
          "text": [
            "600000\n",
            "salary taxable\n",
            "120000.0\n"
          ]
        }
      ]
    },
    {
      "cell_type": "code",
      "source": [
        "salary=int(input())\n",
        "if 0< salary<=250000 :\n",
        "  print(\"salary not taxable\") \n",
        "if 250000< salary<=500000 :\n",
        "  print(\"salary taxable\")\n",
        "  print((salary-250000)*10/100)\n",
        "if salary >500000 :\n",
        "  print(\"salary taxable\") \n",
        "  print((salary-250000)*20/100)\n"
      ],
      "metadata": {
        "colab": {
          "base_uri": "https://localhost:8080/"
        },
        "id": "FOmJn-31pIcr",
        "outputId": "6d86b09c-1ff7-4c5f-f5aa-7a4f178aeedc"
      },
      "execution_count": 8,
      "outputs": [
        {
          "output_type": "stream",
          "name": "stdout",
          "text": [
            "600000\n",
            "salary taxable\n",
            "70000.0\n"
          ]
        }
      ]
    },
    {
      "cell_type": "code",
      "source": [
        "salary=int(input())\n",
        "if 0< salary<=250000 :\n",
        "  print(\"salary not taxable\") \n",
        "if 250000< salary<=500000 :\n",
        "  print(\"salary taxable\")\n",
        "  print((salary-250000)*10/100)\n",
        "if salary >500000 :\n",
        "  print(\"salary taxable\") \n",
        "  print((250000*(10/100))+((salary-500000)*(20/100)))\n",
        " \n"
      ],
      "metadata": {
        "colab": {
          "base_uri": "https://localhost:8080/"
        },
        "id": "_H2HWHxozwKM",
        "outputId": "573c1860-ca14-496a-f8e9-599f239bfa9c"
      },
      "execution_count": 9,
      "outputs": [
        {
          "output_type": "stream",
          "name": "stdout",
          "text": [
            "600000\n",
            "salary taxable\n",
            "45000.0\n"
          ]
        }
      ]
    },
    {
      "cell_type": "code",
      "source": [],
      "metadata": {
        "id": "jhVp_h0EuYPX"
      },
      "execution_count": 9,
      "outputs": []
    }
  ]
}