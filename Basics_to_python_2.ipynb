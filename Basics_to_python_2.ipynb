{
  "nbformat": 4,
  "nbformat_minor": 0,
  "metadata": {
    "colab": {
      "provenance": [],
      "authorship_tag": "ABX9TyPk3uPgIvSlqte71SBAtqnE",
      "include_colab_link": true
    },
    "kernelspec": {
      "name": "python3",
      "display_name": "Python 3"
    },
    "language_info": {
      "name": "python"
    }
  },
  "cells": [
    {
      "cell_type": "markdown",
      "metadata": {
        "id": "view-in-github",
        "colab_type": "text"
      },
      "source": [
        "<a href=\"https://colab.research.google.com/github/Junaidma002/Introduction-to-python/blob/main/Basics_to_python_2.ipynb\" target=\"_parent\"><img src=\"https://colab.research.google.com/assets/colab-badge.svg\" alt=\"Open In Colab\"/></a>"
      ]
    },
    {
      "cell_type": "code",
      "source": [
        "mark=int(input())\n",
        "if mark >50 :\n",
        "  print(\"You are passed\")\n",
        "if mark <50 :\n",
        "  print(\"You are failed\")"
      ],
      "metadata": {
        "colab": {
          "base_uri": "https://localhost:8080/"
        },
        "id": "Xvn7lpNUiIfv",
        "outputId": "ee9a85f0-93d9-46c5-f9fa-483d5b4a8666"
      },
      "execution_count": 12,
      "outputs": [
        {
          "output_type": "stream",
          "name": "stdout",
          "text": [
            "55\n",
            "You are passed\n"
          ]
        }
      ]
    },
    {
      "cell_type": "code",
      "source": [
        "mark=int(input())"
      ],
      "metadata": {
        "colab": {
          "base_uri": "https://localhost:8080/"
        },
        "id": "JK-q2tlVijGq",
        "outputId": "9e3c7b57-2eda-46a1-b73e-35714908c82e"
      },
      "execution_count": 7,
      "outputs": [
        {
          "name": "stdout",
          "output_type": "stream",
          "text": [
            "50\n"
          ]
        }
      ]
    },
    {
      "cell_type": "code",
      "source": [
        "if mark==50 :\n",
        "  print(\"Just passed\")"
      ],
      "metadata": {
        "colab": {
          "base_uri": "https://localhost:8080/"
        },
        "id": "Ib5A8MiqjKvg",
        "outputId": "7c65d5e2-5f9f-42cc-d7bd-971b10410a94"
      },
      "execution_count": 10,
      "outputs": [
        {
          "output_type": "stream",
          "name": "stdout",
          "text": [
            "Just passed\n"
          ]
        }
      ]
    },
    {
      "cell_type": "code",
      "source": [
        "salary=int(input())\n",
        "if salary>=250000 :\n",
        "  print(\"salary taxable\")\n",
        "if salary <250000 :\n",
        "  print(\"salary not taxable\")\n",
        "\n",
        "\n"
      ],
      "metadata": {
        "colab": {
          "base_uri": "https://localhost:8080/"
        },
        "id": "Hhu10YFvkwIS",
        "outputId": "2321978f-3e0d-4727-92c2-554724a48f97"
      },
      "execution_count": 17,
      "outputs": [
        {
          "output_type": "stream",
          "name": "stdout",
          "text": [
            "150000\n",
            "salary not taxable\n"
          ]
        }
      ]
    },
    {
      "cell_type": "code",
      "source": [
        "salary=int(input())\n",
        "if salary>=250000 :\n",
        "  print(\"salary taxable\")\n",
        "  print(salary*10/100)\n",
        "if salary <250000 :\n",
        "  print(\"salary not taxable\")\n",
        "  "
      ],
      "metadata": {
        "colab": {
          "base_uri": "https://localhost:8080/"
        },
        "id": "mdeQ44e8mUdA",
        "outputId": "c8024dca-db14-49de-fde5-73ad4d4e6d15"
      },
      "execution_count": 19,
      "outputs": [
        {
          "output_type": "stream",
          "name": "stdout",
          "text": [
            "300000\n",
            "salary taxable\n",
            "30000.0\n"
          ]
        }
      ]
    },
    {
      "cell_type": "code",
      "source": [
        "salary=int(input())\n",
        "if salary>=250000 :\n",
        "  print(\"salary taxable\")\n",
        "  print((salary-250000)*10/100)"
      ],
      "metadata": {
        "colab": {
          "base_uri": "https://localhost:8080/"
        },
        "id": "iUGFfh1bn_PS",
        "outputId": "c9313761-1602-45d0-fa46-626ad88036e4"
      },
      "execution_count": 20,
      "outputs": [
        {
          "output_type": "stream",
          "name": "stdout",
          "text": [
            "300000\n",
            "salary taxable\n",
            "5000.0\n"
          ]
        }
      ]
    },
    {
      "cell_type": "code",
      "source": [
        "salary=int(input())\n",
        "if 0< salary<=250000 :\n",
        "  print(\"salary not taxable\") \n",
        "if 250000< salary<=500000 :\n",
        "  print(\"salary taxable\")\n",
        "  print(salary*10/100)\n",
        "if salary >500000 :\n",
        "  print(\"salary taxable\") \n",
        "  print(salary*20/100)\n"
      ],
      "metadata": {
        "colab": {
          "base_uri": "https://localhost:8080/"
        },
        "id": "W2XgSxNsqB0p",
        "outputId": "628fdc7e-f9e5-4a38-c3f4-72d6046b1ec0"
      },
      "execution_count": 29,
      "outputs": [
        {
          "output_type": "stream",
          "name": "stdout",
          "text": [
            "600000\n",
            "salary taxable\n",
            "120000.0\n"
          ]
        }
      ]
    },
    {
      "cell_type": "code",
      "source": [
        "salary=int(input())\n",
        "if 0< salary<=250000 :\n",
        "  print(\"salary not taxable\") \n",
        "if 250000< salary<=500000 :\n",
        "  print(\"salary taxable\")\n",
        "  print((salary-250000)*10/100)\n",
        "if salary >500000 :\n",
        "  print(\"salary taxable\") \n",
        "  print((salary-250000)*20/100)\n"
      ],
      "metadata": {
        "colab": {
          "base_uri": "https://localhost:8080/"
        },
        "id": "FOmJn-31pIcr",
        "outputId": "0e9a2186-cecc-41bd-b54b-a1a3e497d2a6"
      },
      "execution_count": 31,
      "outputs": [
        {
          "output_type": "stream",
          "name": "stdout",
          "text": [
            "600000\n",
            "salary taxable\n",
            "70000.0\n"
          ]
        }
      ]
    },
    {
      "cell_type": "code",
      "source": [
        "salary=int(input())\n",
        "if 0< salary<=250000 :\n",
        "  print(\"salary not taxable\") \n",
        "if 250000< salary<=500000 :\n",
        "  print(\"salary taxable\")\n",
        "  print((salary-250000)*10/100)\n",
        "if salary >500000 :\n",
        "  print(\"salary taxable\") \n",
        "  print((250000*(10/100))+((salary-500000)*(20/100)))\n",
        " \n"
      ],
      "metadata": {
        "colab": {
          "base_uri": "https://localhost:8080/"
        },
        "id": "_H2HWHxozwKM",
        "outputId": "81af32d1-d781-4f83-ff2b-6479f269ea84"
      },
      "execution_count": 33,
      "outputs": [
        {
          "output_type": "stream",
          "name": "stdout",
          "text": [
            "600000\n",
            "salary taxable\n",
            "45000.0\n"
          ]
        }
      ]
    },
    {
      "cell_type": "code",
      "source": [],
      "metadata": {
        "id": "jhVp_h0EuYPX"
      },
      "execution_count": null,
      "outputs": []
    }
  ]
}